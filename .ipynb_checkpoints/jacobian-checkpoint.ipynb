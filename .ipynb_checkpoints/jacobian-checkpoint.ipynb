{
 "cells": [
  {
   "cell_type": "markdown",
   "id": "8c0af4ef",
   "metadata": {},
   "source": [
    "## Forward Kinematics - Positions"
   ]
  },
  {
   "cell_type": "markdown",
   "id": "92b0fd38",
   "metadata": {},
   "source": [
    "Let's try to implement a robot with two revolute joints. We will say that the first and second link have lengths l<sub>1</sub> and l<sub>2</sub> respectivelly. Given the joint positions $\\theta$ = ($\\theta$<sub>1</sub>, $\\theta$<sub>2</sub>), let's calculate the 2d positions of the first and second link."
   ]
  },
  {
   "cell_type": "code",
   "execution_count": 229,
   "id": "5d6c7998",
   "metadata": {},
   "outputs": [],
   "source": [
    "import math\n",
    "\n",
    "def forward_kinematics(l1=1,l2=1,theta=(0,0)):\n",
    "    x1 = math.cos(theta[0])*l1\n",
    "    y1= math.sin(theta[0])*l1\n",
    "    \n",
    "    x2 = x1 + math.cos(theta[1]+theta[0])*l2 \n",
    "    y2 = y1 + math.sin(theta[1]+theta[0])*l2 \n",
    "    \n",
    "    return((x1,y1),(x2,y2))\n",
    "    "
   ]
  },
  {
   "cell_type": "markdown",
   "id": "b97b48eb",
   "metadata": {},
   "source": [
    "x1 and x2 are very intuitive to calculate based on trigonometry. x2 and y2 are a bit trickier: we add theta[1] and theta[0] together inside the cosine and sine because we want the second link to pivot relative to the first link, so we add the rotations together."
   ]
  },
  {
   "cell_type": "markdown",
   "id": "eda16130",
   "metadata": {},
   "source": [
    "Note that this function is not linear in $\\theta$ (since it has to go through a cos and sin function), although it is linear in cos($\\theta$) and sin($\\theta$)"
   ]
  },
  {
   "cell_type": "markdown",
   "id": "60e58f31",
   "metadata": {},
   "source": [
    "## Robot visualization and simulation"
   ]
  },
  {
   "cell_type": "markdown",
   "id": "b271d1fc",
   "metadata": {},
   "source": [
    "Now, let's right some code to visualize the robot"
   ]
  },
  {
   "cell_type": "code",
   "execution_count": 197,
   "id": "4a81ad5f",
   "metadata": {},
   "outputs": [],
   "source": [
    "import matplotlib.pyplot as plt\n",
    "\n",
    "def visualize_robot(l1=1,l2=1,theta=(0,0),show=True,print_link=False):\n",
    "    link1, link2 = forward_kinematics(l1,l2,theta)\n",
    "    if print_link:\n",
    "        print(f\"link1: {link1}, link2:{link2}\")\n",
    "    plt.plot(*zip((0,0),link1), marker='o',color=\"red\")\n",
    "    plt.plot(*zip(link1,link2), marker='o',color=\"blue\")\n",
    "    \n",
    "    plt.xlim([-(l1+l2+1), l1+l2+1])\n",
    "    plt.ylim([-(l1+l2+1), l1+l2+1])\n",
    "    if show:\n",
    "        plt.show()"
   ]
  },
  {
   "cell_type": "code",
   "execution_count": 116,
   "id": "d96e29f5",
   "metadata": {},
   "outputs": [
    {
     "data": {
      "image/png": "[encoded data removed]",
      "text/plain": [
       "<Figure size 432x288 with 1 Axes>"
      ]
     },
     "metadata": {
      "needs_background": "light"
     },
     "output_type": "display_data"
    }
   ],
   "source": [
    "visualize_robot(theta=(0,math.pi/2))"
   ]
  },
  {
   "cell_type": "markdown",
   "id": "a98d195e",
   "metadata": {},
   "source": [
    "**QUIZ**: Can you find 5 different joint configurations where the robot is fully reached out? What similarities do you notice between the joint configuration?\n",
    "\n",
    "**QUIZ**: Can you find a joint configuration to make the tip of the robot touch the origin of the robot? Find a few joint configurations that do, and look at what similarities are between them."
   ]
  },
  {
   "cell_type": "markdown",
   "id": "6fcb60d1",
   "metadata": {},
   "source": [
    "## Forward Kinematics - Velocities"
   ]
  },
  {
   "cell_type": "markdown",
   "id": "6661c8cb",
   "metadata": {},
   "source": [
    "So, if f=forward_kinematics, and $\\tau$ is a vector describing the task space (2D end-effector position in this case, which is where the tip of l<sub>2</sub> is, which is just (x<sub>2</sub>,y<sub>2</sub>)), then (x<sub>2</sub>,y<sub>2</sub>) = $\\tau$ = f($\\theta$). Note that we are ignoring (x<sub>1</sub>,y<sub>1</sub>), since we are just interested in manipulating the end effector."
   ]
  },
  {
   "cell_type": "markdown",
   "id": "1bb61a3b",
   "metadata": {},
   "source": [
    "So, let the derivative of $\\tau$ with respect to time $t$ be $\\dot{\\tau}$, which represents the 2D velocity of the end-effector. This is equal to taking the derivative of f with respect to $t$, by chain rules gives $\\dot{\\tau}$ = J($\\theta$)*$\\dot{\\theta}$, where J($\\theta$) is the Jacobian (matrix of partial derivatives of f with respect to $\\theta$), and $\\dot{\\theta}$ is the joint velocity. Note that J is a 2x2 matrix and is a function of the joint positions $\\theta$. If we take the partial derivatives of the forward_kinematics function, we get:"
   ]
  },
  {
   "cell_type": "markdown",
   "id": "ee7cb263",
   "metadata": {},
   "source": [
    "$$\\nabla f = J = \n",
    "\\left(\\begin{array}{cc} \n",
    "\\frac{df_{1}}{d\\theta_{1}} & \\frac{df_{1}}{d\\theta_{2}}\\\\\n",
    "\\frac{df_{2}}{d\\theta_{1}} & \\frac{df_{2}}{d\\theta_{2}}\n",
    "\\end{array}\\right)\n",
    "$$"
   ]
  },
  {
   "cell_type": "markdown",
   "id": "75ff6060",
   "metadata": {},
   "source": [
    "$$= \n",
    "\\left(\\begin{array}{cc} \n",
    "-sin(\\theta_{0})l_{1} - sin(\\theta_1 + \\theta_0)l_{2}  & - sin(\\theta_1 + \\theta_0)l_{2}\\\\\n",
    "cos(\\theta_{0})l_{1} + cos(\\theta_1 + \\theta_0)l_{2}  & cos(\\theta_1 + \\theta_0)l_{2}\\\\\n",
    "\\end{array}\\right)\n",
    "$$"
   ]
  },
  {
   "cell_type": "markdown",
   "id": "be24be48",
   "metadata": {},
   "source": [
    "Let's write a function that gives us this matrix"
   ]
  },
  {
   "cell_type": "code",
   "execution_count": 75,
   "id": "c2937759",
   "metadata": {},
   "outputs": [],
   "source": [
    "import numpy as np\n",
    "\n",
    "def _J(theta=[0,0],l1=1,l2=1):\n",
    "    dx_t0 = -math.sin(theta[0])*l1 - math.sin(theta[0]+theta[1])*l2\n",
    "    dx_t1 = - math.sin(theta[0]+theta[1])*l2\n",
    "    dy_t0 = math.cos(theta[0])*l1 + math.cos(theta[0] + theta[1])*l2\n",
    "    dy_t1 = math.cos(theta[0] + theta[1])*l2\n",
    "    return(np.array([[dx_t0, dx_t1],[dy_t0, dy_t1]]))"
   ]
  },
  {
   "cell_type": "code",
   "execution_count": 76,
   "id": "da97eed2",
   "metadata": {},
   "outputs": [
    {
     "name": "stdout",
     "output_type": "stream",
     "text": [
      "[[-1.32089652 -0.84147098]\n",
      " [ 1.41788487  0.54030231]]\n"
     ]
    }
   ],
   "source": [
    "J = _J(theta=(0.5,0.5))\n",
    "print(J)"
   ]
  },
  {
   "cell_type": "markdown",
   "id": "70de369c",
   "metadata": {},
   "source": [
    "Unlike the forward_kinematics function, the Jacobian is a linear map (by definition, it's just a matrix of first-order partial derivatives), except instead of mapping joint configurations to end-effector poses, it maps joint velocities to end-effector velocities. That is neat! But also remember that each joint configuration has its own Jacobian, and the mapping from joint configurations to Jacobians is not linear. Kinda weird but pretty cool!"
   ]
  },
  {
   "cell_type": "markdown",
   "id": "a1eb0c89",
   "metadata": {},
   "source": [
    "## Linear approximation of end-effector delta via Jacobian"
   ]
  },
  {
   "cell_type": "markdown",
   "id": "eed852af",
   "metadata": {},
   "source": [
    "So, now for a give joint configuration $\\theta$, we can use the Jacobian to get a linear approximation of how the end effector will move as a function of the joint velocities."
   ]
  },
  {
   "cell_type": "code",
   "execution_count": 77,
   "id": "3ef58f6c",
   "metadata": {},
   "outputs": [
    {
     "name": "stdout",
     "output_type": "stream",
     "text": [
      "[[-0. -0.]\n",
      " [ 2.  1.]]\n",
      "[0.   1.25]\n"
     ]
    }
   ],
   "source": [
    "theta = np.array([0,0])\n",
    "theta_dot = np.array([0.5,0.25])\n",
    "J = _J(theta=theta)\n",
    "print(J)\n",
    "tau_dot = np.matmul(J,theta_dot)\n",
    "print(tau_dot)"
   ]
  },
  {
   "cell_type": "markdown",
   "id": "510e0551",
   "metadata": {},
   "source": [
    "That's interesting: the velocity for the x component is 0, which means that for small applications of the joint velocity at the current joint position, the x component won't change. Let's check if that's true. First, let's visualize theta. Then, let's slightly change theta based on the joint velocities, and then replot it."
   ]
  },
  {
   "cell_type": "code",
   "execution_count": 78,
   "id": "68eb9107",
   "metadata": {},
   "outputs": [
    {
     "name": "stdout",
     "output_type": "stream",
     "text": [
      "[[-0. -0.]\n",
      " [ 2.  1.]]\n",
      "[0.   1.25]\n"
     ]
    },
    {
     "data": {
      "image/png": "[encoded data removed]",
      "text/plain": [
       "<Figure size 432x288 with 1 Axes>"
      ]
     },
     "metadata": {
      "needs_background": "light"
     },
     "output_type": "display_data"
    },
    {
     "data": {
      "image/png": "[encoded data removed]",
      "text/plain": [
       "<Figure size 432x288 with 1 Axes>"
      ]
     },
     "metadata": {
      "needs_background": "light"
     },
     "output_type": "display_data"
    }
   ],
   "source": [
    "theta = np.array([0,0])\n",
    "theta_dot = np.array([0.5,0.25])\n",
    "J = _J(theta=theta)\n",
    "print(J)\n",
    "tau_dot = np.matmul(J,theta_dot)\n",
    "print(tau_dot)\n",
    "\n",
    "visualize_robot(theta=theta)\n",
    "\n",
    "\n",
    "delta = 0.1\n",
    "\n",
    "theta_delta = theta_dot * delta\n",
    "theta = theta + theta_delta\n",
    "\n",
    "visualize_robot(theta=theta)"
   ]
  },
  {
   "cell_type": "markdown",
   "id": "1be7914f",
   "metadata": {},
   "source": [
    "Based on tau_dot, we can predicate how link2 will change between the first plot and the second plot!"
   ]
  },
  {
   "cell_type": "markdown",
   "id": "9db6d3f5",
   "metadata": {},
   "source": [
    "## Jacobian Inverse"
   ]
  },
  {
   "cell_type": "markdown",
   "id": "7872e3cf",
   "metadata": {},
   "source": [
    "In many cases, the Jacobian will rank of 2, which means that it is non-singular, and therefore the matrix is invertible."
   ]
  },
  {
   "cell_type": "code",
   "execution_count": 79,
   "id": "843e8110",
   "metadata": {},
   "outputs": [
    {
     "data": {
      "image/png": "[encoded data removed]",
      "text/plain": [
       "<Figure size 432x288 with 1 Axes>"
      ]
     },
     "metadata": {
      "needs_background": "light"
     },
     "output_type": "display_data"
    },
    {
     "name": "stdout",
     "output_type": "stream",
     "text": [
      "[[-1.70710678e+00 -1.00000000e+00]\n",
      " [ 7.07106781e-01  6.12323400e-17]]\n",
      "Rank of J is 2\n"
     ]
    }
   ],
   "source": [
    "import math\n",
    "theta = (math.pi/4,math.pi/4)\n",
    "visualize_robot(theta=theta)\n",
    "J = _J(theta=(theta))\n",
    "print(J)\n",
    "print(f\"Rank of J is {np.linalg.matrix_rank(J)}\")"
   ]
  },
  {
   "cell_type": "markdown",
   "id": "28e39be4",
   "metadata": {},
   "source": [
    "If the matrix is invertible, we can calculate the joint velocities to realize a specified end-effector velocity."
   ]
  },
  {
   "cell_type": "code",
   "execution_count": 117,
   "id": "5dac03ab",
   "metadata": {},
   "outputs": [
    {
     "data": {
      "image/png": "[encoded data removed]",
      "text/plain": [
       "<Figure size 432x288 with 1 Axes>"
      ]
     },
     "metadata": {
      "needs_background": "light"
     },
     "output_type": "display_data"
    }
   ],
   "source": [
    "theta = (math.pi/2,math.pi/2)\n",
    "tau_dot = [0.5,0.5]\n",
    "for _ in range(20):\n",
    "    visualize_robot(theta=theta,show=False)\n",
    "    J = _J(theta=(theta))\n",
    "\n",
    "    J_inv = np.linalg.inv(J)\n",
    "\n",
    "    theta_dot = np.matmul(J_inv, tau_dot)\n",
    "    delta = 0.05\n",
    "    theta = theta + theta_dot * delta\n",
    "\n",
    "plt.show()\n"
   ]
  },
  {
   "cell_type": "markdown",
   "id": "e5aa1eb5",
   "metadata": {},
   "source": [
    "Here we can see we set the end effector velocity to [1,0], which we can use to get the joint velocities that make that possible, as we see from the fact that the robot arm moves the tip of the end effector rightward"
   ]
  },
  {
   "cell_type": "markdown",
   "id": "42a75cd0",
   "metadata": {},
   "source": [
    "## Drawing with the Jacobian!"
   ]
  },
  {
   "cell_type": "markdown",
   "id": "7836ef34",
   "metadata": {},
   "source": [
    "We can draw use this newfound power to draw shapes too! Polygons are the easiest, but SOMEONE suggested I try to draw a circle! How would we do that? Let's find out!"
   ]
  },
  {
   "cell_type": "code",
   "execution_count": 157,
   "id": "bba3a657",
   "metadata": {},
   "outputs": [
    {
     "data": {
      "image/png": "[encoded data removed]",
      "text/plain": [
       "<Figure size 432x288 with 1 Axes>"
      ]
     },
     "metadata": {
      "needs_background": "light"
     },
     "output_type": "display_data"
    }
   ],
   "source": [
    "theta = [math.pi/4, math.pi/2]\n",
    "delta = 0.05\n",
    "radius = 1.25 #The radius of the circle we intended to draw\n",
    "#Question: In order to make drawn circle be this radius, should I somehow relate delta to radius?\n",
    "\n",
    "cur_degree = 0 #this is the current degrees in the circle we are drawing, start at 0\n",
    "for cur_degree in np.arange(0,2*math.pi,2*math.pi/50):\n",
    "    visualize_robot(theta=theta,show=False)\n",
    "    #claculate the tangent to the circle at this degree. The tangent defines how we want the end effector tip to move\n",
    "    x_dot = -math.sin(cur_degree)*radius\n",
    "    y_dot = math.cos(cur_degree)*radius\n",
    "    \n",
    "    tau_dot = [x_dot,y_dot]\n",
    "    \n",
    "    J = _J(theta=(theta))\n",
    "\n",
    "    J_inv = np.linalg.inv(J)\n",
    "\n",
    "    theta_dot = np.matmul(J_inv, tau_dot)\n",
    "    theta = theta + theta_dot * delta\n",
    "    \n",
    "plt.show()\n",
    "    \n",
    "    "
   ]
  },
  {
   "cell_type": "markdown",
   "id": "789816d7",
   "metadata": {},
   "source": [
    "## Singularities"
   ]
  },
  {
   "cell_type": "markdown",
   "id": "22feb740",
   "metadata": {},
   "source": [
    "But consider when the robot is at the edge of it's workspace, such that the arm is fully extended"
   ]
  },
  {
   "cell_type": "code",
   "execution_count": 10,
   "id": "d208b9a4",
   "metadata": {},
   "outputs": [
    {
     "name": "stdout",
     "output_type": "stream",
     "text": [
      "Jacobian is [[-0.74221188 -0.49480792]\n",
      " [ 2.90673727  1.93782484]]\n",
      "link1: (0.9689124217106447, 0.24740395925452294), link2:(1.9378248434212895, 0.4948079185090459)\n"
     ]
    },
    {
     "data": {
      "image/png": "[encoded data removed]",
      "text/plain": [
       "<Figure size 432x288 with 1 Axes>"
      ]
     },
     "metadata": {
      "needs_background": "light"
     },
     "output_type": "display_data"
    },
    {
     "name": "stdout",
     "output_type": "stream",
     "text": [
      "Rank of J is 1\n"
     ]
    }
   ],
   "source": [
    "theta = (0.25, 0)\n",
    "J = _J(theta=theta)\n",
    "print(f\"Jacobian is {J}\")\n",
    "visualize_robot(theta=theta) #See the robot arm is fully extended\n",
    "print(f\"Rank of J is {np.linalg.matrix_rank(J)}\")"
   ]
  },
  {
   "cell_type": "markdown",
   "id": "6527c4d4",
   "metadata": {},
   "source": [
    "The matrix is singular when the matrix is not full rank, so we would say there is a singularity at the joint position (0.25, 0). The Jacobian isn't obviously singular by inspection, but we can confirm that the colums are linearly dependent: \n"
   ]
  },
  {
   "cell_type": "code",
   "execution_count": 11,
   "id": "04aab31f",
   "metadata": {},
   "outputs": [
    {
     "name": "stdout",
     "output_type": "stream",
     "text": [
      "1.5\n",
      "1.5\n"
     ]
    }
   ],
   "source": [
    "theta = (0.25, 0)\n",
    "J = _J(theta=theta)\n",
    "print(J[0,0] / J[0,1])\n",
    "print(J[1,0] / J[1,1])"
   ]
  },
  {
   "cell_type": "markdown",
   "id": "5639fdcb",
   "metadata": {},
   "source": [
    "The column space of the Jacobian represents the vector space of realizable end-effector velocities. When the matrix is singular, we lose a direction that is possible. This is especially obvious if you look at the jacobian of the two-link robot when it is at (0,0)"
   ]
  },
  {
   "cell_type": "code",
   "execution_count": 33,
   "id": "ec2aa53c",
   "metadata": {},
   "outputs": [
    {
     "data": {
      "image/png": "[encoded data removed]",
      "text/plain": [
       "<Figure size 432x288 with 1 Axes>"
      ]
     },
     "metadata": {
      "needs_background": "light"
     },
     "output_type": "display_data"
    },
    {
     "name": "stdout",
     "output_type": "stream",
     "text": [
      "[[-0. -0.]\n",
      " [ 3.  2.]]\n"
     ]
    }
   ],
   "source": [
    "theta = (0, 0)\n",
    "visualize_robot(theta=theta)\n",
    "J = _J(theta=theta)\n",
    "print(J)"
   ]
  },
  {
   "cell_type": "markdown",
   "id": "22d91884",
   "metadata": {},
   "source": [
    "The robot's arm is fully stretched out to the right, so it's impossible for the arm to go further right. As we can see, the column space of the Jacobian is spanned by [0,1], which [1,0] is not a part of. Therefore, locally at this joint configuration, the tip of the end-effector can only move up or down. This makes sense it loses the ability to move further right, but it's interesting it also implies that the robot can't move it's end effector left without first going up or down a bit."
   ]
  },
  {
   "cell_type": "markdown",
   "id": "9bb4986f",
   "metadata": {},
   "source": [
    "## Jacobian determinent as proxy for distance to singularities"
   ]
  },
  {
   "cell_type": "markdown",
   "id": "e89e36fd",
   "metadata": {},
   "source": [
    "The rank of the Jacobian is very discrete (i.e: the rank is always an integer), but intuitively, how close a joint configuration is to a singularity can be a graded value. For example, consider the two joint configurations:"
   ]
  },
  {
   "cell_type": "code",
   "execution_count": 167,
   "id": "5875ec12",
   "metadata": {},
   "outputs": [
    {
     "data": {
      "image/png": "[encoded data removed]",
      "text/plain": [
       "<Figure size 432x288 with 1 Axes>"
      ]
     },
     "metadata": {
      "needs_background": "light"
     },
     "output_type": "display_data"
    },
    {
     "data": {
      "image/png": "[encoded data removed]",
      "text/plain": [
       "<Figure size 432x288 with 1 Axes>"
      ]
     },
     "metadata": {
      "needs_background": "light"
     },
     "output_type": "display_data"
    },
    {
     "name": "stdout",
     "output_type": "stream",
     "text": [
      "rank of [0, 0.01] is 2\n",
      "rank of [0.7853981633974483, 1.5707963267948966] is 2\n"
     ]
    }
   ],
   "source": [
    "theta_1 = [0,0.01]\n",
    "theta_2 = [math.pi/4,math.pi/2]\n",
    "\n",
    "visualize_robot(theta=theta_1)\n",
    "visualize_robot(theta=theta_2)\n",
    "\n",
    "J1 = _J(theta_1)\n",
    "J2 = _J(theta_2)\n",
    "\n",
    "print(f\"rank of {theta_1} is {np.linalg.matrix_rank(J1)}\")\n",
    "print(f\"rank of {theta_2} is {np.linalg.matrix_rank(J2)}\")"
   ]
  },
  {
   "cell_type": "markdown",
   "id": "78f07533",
   "metadata": {},
   "source": [
    "Both of the Jacobians at these two joint configurations is 2, but intuitively theta_1 seems closer to a singularity since it's very close to the edge of the workspace. One way to think about this is to look at the determinent of the Jacobian, which tells us the volume created by the transformation. When a matrix is singular, the determinent is 0, and when we're far away from a singularity, the determinent should be high!"
   ]
  },
  {
   "cell_type": "code",
   "execution_count": 172,
   "id": "a7d61fe4",
   "metadata": {},
   "outputs": [
    {
     "name": "stdout",
     "output_type": "stream",
     "text": [
      "determinent of [0, 0.01] is 0.009999833334166668\n",
      "determinent of [0.7853981633974483, 1.5707963267948966] is 1.0\n"
     ]
    }
   ],
   "source": [
    "theta_1 = [0,0.01]\n",
    "theta_2 = [math.pi/4,math.pi/2]\n",
    "\n",
    "J1 = _J(theta_1)\n",
    "J2 = _J(theta_2)\n",
    "\n",
    "print(f\"determinent of {theta_1} is {np.linalg.det(J1)}\")\n",
    "print(f\"determinent of {theta_2} is {np.linalg.det(J2)}\")"
   ]
  },
  {
   "cell_type": "markdown",
   "id": "9b85c16c",
   "metadata": {},
   "source": [
    "As we can see, the determinent is much higher for theta_2 than theta_1, which is really neat-o!"
   ]
  },
  {
   "cell_type": "markdown",
   "id": "c523e866",
   "metadata": {},
   "source": [
    "## Approaching singularities leads to joint velocity sadness"
   ]
  },
  {
   "cell_type": "markdown",
   "id": "43ba9294",
   "metadata": {},
   "source": [
    "Let's go back to our drawing circle example. If you actually play around with the initial joint configuration of the robot, sometimes you get really weird looking shapes"
   ]
  },
  {
   "cell_type": "code",
   "execution_count": 184,
   "id": "2ff631c9",
   "metadata": {},
   "outputs": [
    {
     "data": {
      "image/png": "[encoded data removed]",
      "text/plain": [
       "<Figure size 432x288 with 1 Axes>"
      ]
     },
     "metadata": {
      "needs_background": "light"
     },
     "output_type": "display_data"
    }
   ],
   "source": [
    "theta = [math.pi/2, math.pi/2]\n",
    "delta = 0.05\n",
    "radius = 1.25 #The radius of the circle we intended to draw\n",
    "#Question: In order to make drawn circle be this radius, should I somehow relate delta to radius?\n",
    "\n",
    "cur_degree = 0 #this is the current degrees in the circle we are drawing, start at 0\n",
    "for cur_degree in np.arange(0,2*math.pi,2*math.pi/50):\n",
    "    visualize_robot(theta=theta,show=False)\n",
    "    #claculate the tangent to the circle at this degree. The tangent defines how we want the end effector tip to move\n",
    "    x_dot = -math.sin(cur_degree)*radius\n",
    "    y_dot = math.cos(cur_degree)*radius\n",
    "    \n",
    "    tau_dot = [x_dot,y_dot]\n",
    "    \n",
    "    J = _J(theta=(theta))\n",
    "\n",
    "    J_inv = np.linalg.inv(J)\n",
    "\n",
    "    theta_dot = np.matmul(J_inv, tau_dot)\n",
    "    theta = theta + theta_dot * delta\n",
    "    \n",
    "plt.show()\n",
    "    \n",
    "    "
   ]
  },
  {
   "cell_type": "markdown",
   "id": "9762103f",
   "metadata": {},
   "source": [
    "I mean, it KINDA looks like a circle for some part of it, but then it veers off very weirdly. What's going on? Maybe the first thing we can do is graph the determinent of each Jacobian as we progress through drawing the circle to see if we're getting near a singularity"
   ]
  },
  {
   "cell_type": "code",
   "execution_count": 194,
   "id": "5b1447c8",
   "metadata": {},
   "outputs": [
    {
     "data": {
      "image/png": "[encoded data removed]",
      "text/plain": [
       "<Figure size 432x288 with 1 Axes>"
      ]
     },
     "metadata": {
      "needs_background": "light"
     },
     "output_type": "display_data"
    },
    {
     "data": {
      "image/png": "[encoded data removed]",
      "text/plain": [
       "<Figure size 432x288 with 1 Axes>"
      ]
     },
     "metadata": {
      "needs_background": "light"
     },
     "output_type": "display_data"
    }
   ],
   "source": [
    "theta = [math.pi/4, math.pi/2]\n",
    "delta = 0.05\n",
    "radius = 1.25 #The radius of the circle we intended to draw\n",
    "#Question: In order to make drawn circle be this radius, should I somehow relate delta to radius?\n",
    "\n",
    "determinent_list = []\n",
    "\n",
    "cur_degree = 0 #this is the current degrees in the circle we are drawing, start at 0\n",
    "start = cur_degree\n",
    "end = 2*math.pi\n",
    "step_size = (end-start)/50\n",
    "for cur_degree in np.arange(start,end,step_size):\n",
    "    visualize_robot(theta=theta,show=False)\n",
    "    #claculate the tangent to the circle at this degree. The tangent defines how we want the end effector tip to move\n",
    "    x_dot = -math.sin(cur_degree)*radius\n",
    "    y_dot = math.cos(cur_degree)*radius\n",
    "    \n",
    "    tau_dot = [x_dot,y_dot]\n",
    "    \n",
    "    J = _J(theta=(theta))\n",
    "    \n",
    "    determinent_list.append(np.linalg.det(J))\n",
    "    \n",
    "\n",
    "    J_inv = np.linalg.inv(J)\n",
    "\n",
    "    theta_dot = np.matmul(J_inv, tau_dot)\n",
    "    theta = theta + theta_dot * delta\n",
    "plt.show()\n",
    "\n",
    "plt.plot(np.arange(start,end,step_size),determinent_list)\n",
    "plt.show()\n",
    "    \n",
    "    "
   ]
  },
  {
   "cell_type": "markdown",
   "id": "7c142445",
   "metadata": {},
   "source": [
    "## Manipulability Ellipsoid"
   ]
  },
  {
   "cell_type": "markdown",
   "id": "e2f11a67",
   "metadata": {},
   "source": [
    "It'd be nice to visualize the column space of the Jacobian at the end-effector tip to get understanding of which directions the robot can move. The column space of the Jacobian can be represented many choices of basis functions, so which makes the most sense? One interesting choice is to visualize"
   ]
  },
  {
   "cell_type": "code",
   "execution_count": 156,
   "id": "dbd60055",
   "metadata": {},
   "outputs": [],
   "source": [
    "#TODO: Finish manipulability ellipsoid section"
   ]
  },
  {
   "cell_type": "markdown",
   "id": "f49a196d",
   "metadata": {},
   "source": [
    "## Three Joint Robot"
   ]
  },
  {
   "cell_type": "markdown",
   "id": "235c6e7d",
   "metadata": {},
   "source": [
    "Let's make a three link robot to see how it does!"
   ]
  },
  {
   "cell_type": "code",
   "execution_count": 74,
   "id": "2f976ee7",
   "metadata": {},
   "outputs": [],
   "source": [
    "import math\n",
    "\n",
    "def forward_kinematics3(l1=1,l2=1,l3=1,theta=(0,0,0)):\n",
    "    x1 = math.cos(theta[0])*l1\n",
    "    y1= math.sin(theta[0])*l1\n",
    "    \n",
    "    x2 = x1 + math.cos(theta[1]+theta[0])*l2 \n",
    "    y2 = y1 + math.sin(theta[1]+theta[0])*l2 \n",
    "    \n",
    "    x3 = x2 + math.cos(theta[2]+theta[1]+theta[0])*l3 \n",
    "    y3 = y2 + math.sin(theta[2]+theta[1]+theta[0])*l3 \n",
    "    \n",
    "    return((x1,y1),(x2,y2),(x3,y3))\n",
    "    \n",
    "import matplotlib.pyplot as plt\n",
    "\n",
    "def visualize_robot3(l1=1,l2=1,l3=1,theta=(0,0,0),show=True,print_link=False):\n",
    "    link1, link2, link3 = forward_kinematics3(l1,l2,l3,theta)\n",
    "    if print_link:\n",
    "        print(f\"link1: {link1}, link2:{link2}, link3:{link3}\")\n",
    "    plt.plot(*zip((0,0),link1), marker='o')\n",
    "    plt.plot(*zip(link1,link2), marker='o')\n",
    "    plt.plot(*zip(link2,link3), marker='o')\n",
    "    \n",
    "    plt.xlim([-(l1+l2+l3+1), l1+l2+l3+1])\n",
    "    plt.ylim([-(l1+l2+l3+1), l1+l2+l3+1])\n",
    "    if show:\n",
    "        plt.show()\n",
    "\n",
    "import numpy as np\n",
    "\n",
    "#Jacbobian in this case is 2x3\n",
    "def _J3(theta=[0,0],l1=1,l2=1,l3=1):\n",
    "    dx_t0 = -math.sin(theta[0])*l1 - math.sin(theta[0]+theta[1])*l2 - math.sin(theta[0]+theta[1]+theta[2])*l3\n",
    "    dx_t1 = - math.sin(theta[0]+theta[1])*l2 - math.sin(theta[0] + theta[1] + theta[2])*l3\n",
    "    dx_t2 = -math.sin(theta[0] + theta[1] + theta[2])*l3\n",
    "    dy_t0 = math.cos(theta[0])*l1 + math.cos(theta[0] + theta[1])*l2 + math.cos(theta[0]+theta[1]+theta[2])*l3\n",
    "    dy_t1 = math.cos(theta[0] + theta[1])*l2 + math.cos(theta[0] + theta[1] + theta[2])*l3\n",
    "    dy_t2 = math.cos(theta[0]+theta[1]+theta[2])*l3\n",
    "    return(np.array([[dx_t0, dx_t1, dx_t2],[dy_t0, dy_t1, dy_t2]]))"
   ]
  },
  {
   "cell_type": "code",
   "execution_count": 73,
   "id": "1d0daeff",
   "metadata": {},
   "outputs": [
    {
     "name": "stdout",
     "output_type": "stream",
     "text": [
      "1\n",
      "link1: (1.0, 0.0), link2:(1.0, 1.0), link3:(0.29289321881345254, 1.7071067811865475)\n"
     ]
    },
    {
     "data": {
      "image/png": "[encoded data removed]",
      "text/plain": [
       "<Figure size 432x288 with 1 Axes>"
      ]
     },
     "metadata": {
      "needs_background": "light"
     },
     "output_type": "display_data"
    }
   ],
   "source": [
    "theta = [0,math.pi/2,math.pi/4]\n",
    "visualize_robot3(theta=theta,print_link=True)\n",
    "J = _J3(theta=theta)"
   ]
  },
  {
   "cell_type": "code",
   "execution_count": 176,
   "id": "2298cf1b",
   "metadata": {},
   "outputs": [],
   "source": [
    "#TODO: Do drawing with three link robot!"
   ]
  },
  {
   "cell_type": "code",
   "execution_count": 83,
   "id": "e5de66e6",
   "metadata": {},
   "outputs": [],
   "source": [
    "#TODO inverting a rectangular Jacobian"
   ]
  },
  {
   "cell_type": "code",
   "execution_count": 98,
   "id": "2b3a7eba",
   "metadata": {},
   "outputs": [],
   "source": [
    "#TODO: all the places I'm drawing with the robot should abstracted to single function"
   ]
  },
  {
   "cell_type": "code",
   "execution_count": null,
   "id": "421a1bd3",
   "metadata": {},
   "outputs": [],
   "source": [
    "#TODO: look at jont velocities when using inverse of jacobian, do they explode near singularities or something?"
   ]
  },
  {
   "cell_type": "code",
   "execution_count": 155,
   "id": "6a3aad02",
   "metadata": {},
   "outputs": [],
   "source": [
    "#TODO: include orientation in Jacobian"
   ]
  },
  {
   "cell_type": "code",
   "execution_count": 173,
   "id": "efd7d07a",
   "metadata": {},
   "outputs": [],
   "source": [
    "#TODO: rectangular jacobian discussion (three link arm), taking determinents, SVD, blah blah"
   ]
  },
  {
   "cell_type": "code",
   "execution_count": 174,
   "id": "2422e855",
   "metadata": {},
   "outputs": [],
   "source": [
    "#TODO: section on inverse kinematics"
   ]
  },
  {
   "cell_type": "code",
   "execution_count": null,
   "id": "e81b8a1f",
   "metadata": {},
   "outputs": [],
   "source": [
    "#TODO: Look at force ellipsoid"
   ]
  },
  {
   "cell_type": "code",
   "execution_count": null,
   "id": "92725395",
   "metadata": {},
   "outputs": [],
   "source": [
    "#TODO: Look at jacobian transpose for end-effector wrench / joint torques"
   ]
  },
  {
   "cell_type": "code",
   "execution_count": 175,
   "id": "282ff849",
   "metadata": {},
   "outputs": [],
   "source": [
    "#TODO: Simulate gravity"
   ]
  },
  {
   "cell_type": "code",
   "execution_count": null,
   "id": "64b6c466",
   "metadata": {},
   "outputs": [],
   "source": []
  }
 ],
 "metadata": {
  "kernelspec": {
   "display_name": "Python 3 (ipykernel)",
   "language": "python",
   "name": "python3"
  },
  "language_info": {
   "codemirror_mode": {
    "name": "ipython",
    "version": 3
   },
   "file_extension": ".py",
   "mimetype": "text/x-python",
   "name": "python",
   "nbconvert_exporter": "python",
   "pygments_lexer": "ipython3",
   "version": "3.9.7"
  }
 },
 "nbformat": 4,
 "nbformat_minor": 5
}
